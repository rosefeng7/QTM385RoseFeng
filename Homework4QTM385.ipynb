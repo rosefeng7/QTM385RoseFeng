{
 "cells": [
  {
   "cell_type": "markdown",
   "metadata": {},
   "source": [
    "# QTM 385\n",
    "\n",
    "***\n",
    "\n",
    "## Homework 4\n",
    "\n",
    "Rose Feng [2341675]"
   ]
  },
  {
   "cell_type": "markdown",
   "metadata": {},
   "source": [
    "In this homework, we will create an object called Student, that is useful for a professor to store information about a student."
   ]
  },
  {
   "cell_type": "markdown",
   "metadata": {},
   "source": [
    "\n",
    "***\n",
    "\n",
    "### Question 1\n",
    "\n",
    "Create a class Student, that has:\n",
    "\n",
    "0. Id number (5-digits integer, starting with 1)\n",
    "1. First Name (str)\n",
    "2. Last Name (str)\n",
    "3. Grades (list of floats)\n",
    "4. Credits (list of integers)\n",
    "5. Major (str)\n",
    "\n",
    "Provide a constructor for your class and create one fictitious student."
   ]
  },
  {
   "cell_type": "code",
   "execution_count": 1,
   "metadata": {},
   "outputs": [],
   "source": [
    "# Your answer here\n",
    "class Student:\n",
    "    def __init__(self, ID, fname, lname, grade, credit, major):\n",
    "        self.ID = ID\n",
    "        self.fname = fname\n",
    "        self.lname = lname\n",
    "        self.grade = grade\n",
    "        self.credit = credit\n",
    "        self.major = major"
   ]
  },
  {
   "cell_type": "code",
   "execution_count": 2,
   "metadata": {},
   "outputs": [],
   "source": [
    "# Creating a fictitious student\n",
    "stu1 = Student(14566, \"Nicole\", \"Jin\", [98, 100, 34, 78], [3, 4, 3, 4], \"Business\")"
   ]
  },
  {
   "cell_type": "markdown",
   "metadata": {},
   "source": [
    "\n",
    "***\n",
    "\n",
    "### Question 2\n",
    "\n",
    "Create a method to nicely display the student when we type `print`. It should display, for example:\n",
    "\n",
    "```\n",
    "Student:\n",
    "    Id: 12345\n",
    "    Name: Mig, Umberto\n",
    "    Major: QSS\n",
    "```\n",
    "\n",
    "Create a method that, when a variable storing a student is typed in the console, displays:\n",
    "\n",
    "```\n",
    "Student(Mig, Umberto; 12345)\n",
    "```\n",
    "\n",
    "Provide some testing with a fictitious result of your choice."
   ]
  },
  {
   "cell_type": "code",
   "execution_count": 3,
   "metadata": {},
   "outputs": [],
   "source": [
    "# Your answer here\n",
    "class Student:\n",
    "    def __init__(self, ID, fname, lname, grade, credit, major):\n",
    "        self.ID = ID\n",
    "        self.fname = fname\n",
    "        self.lname = lname\n",
    "        self.grade = grade\n",
    "        self.credit = credit\n",
    "        self.major = major\n",
    "\n",
    "    def __str__(self):\n",
    "        stu_info = \"\"\"\n",
    "        Student:\n",
    "            Id: {ID}\n",
    "            Name: {lname}, {fname}\n",
    "            Major: {major}\n",
    "            \"\"\".format(ID = self.ID, lname = self.lname, fname = self.fname, major = self.major)\n",
    "        return stu_info\n",
    "    \n",
    "    def __repr__(self):\n",
    "        return \"Student({lname}, {fname}; {ID})\".format(lname = self.lname, fname = self.fname, ID = self.ID)"
   ]
  },
  {
   "cell_type": "code",
   "execution_count": 4,
   "metadata": {},
   "outputs": [],
   "source": [
    "stu2 = Student(17569, \"Amy\", \"Smith\", [58, 94, 20, 40], [3, 3, 3, 4], \"Math\")"
   ]
  },
  {
   "cell_type": "code",
   "execution_count": 5,
   "metadata": {
    "scrolled": true
   },
   "outputs": [
    {
     "name": "stdout",
     "output_type": "stream",
     "text": [
      "\n",
      "        Student:\n",
      "            Id: 17569\n",
      "            Name: Smith, Amy\n",
      "            Major: Math\n",
      "            \n"
     ]
    }
   ],
   "source": [
    "# Testing\n",
    "print(stu2)"
   ]
  },
  {
   "cell_type": "code",
   "execution_count": 6,
   "metadata": {},
   "outputs": [
    {
     "data": {
      "text/plain": [
       "Student(Smith, Amy; 17569)"
      ]
     },
     "execution_count": 6,
     "metadata": {},
     "output_type": "execute_result"
    }
   ],
   "source": [
    "# Testing\n",
    "stu2"
   ]
  },
  {
   "cell_type": "markdown",
   "metadata": {},
   "source": [
    "\n",
    "***\n",
    "\n",
    "### Question 3\n",
    "\n",
    "Implement class methods for:\n",
    "\n",
    "1. Check if the id number is valid (remember: 5 digits, starting with number one)\n",
    "2. Check if the grades list has the same length as the credits list. The idea is that every grade corresponds to a course that gave the student a certain amount of credits.\n",
    "3. Append grade and credit: given a grade, and credits attached to the grade, append both to each respective place.\n",
    "\n",
    "Test your function with a toy student of your choice."
   ]
  },
  {
   "cell_type": "code",
   "execution_count": 7,
   "metadata": {},
   "outputs": [],
   "source": [
    "# Your answer here\n",
    "class Student:\n",
    "    def __init__(self, ID, fname, lname, grade, credit, major):\n",
    "        self.ID = ID\n",
    "        self.fname = fname\n",
    "        self.lname = lname\n",
    "        self.grade = grade\n",
    "        self.credit = credit\n",
    "        self.major = major\n",
    "\n",
    "    def __str__(self):\n",
    "        stu_info = \"\"\"\n",
    "        Student:\n",
    "            Id: {ID}\n",
    "            Name: {lname}, {fname}\n",
    "            Major: {major}\n",
    "            \"\"\".format(ID = self.ID, lname = self.lname, fname = self.fname, major = self.major)\n",
    "        return stu_info\n",
    "    \n",
    "    def __repr__(self):\n",
    "        return \"Name: {lname}, {fname}; ID: {ID}\".format(lname = self.lname, fname = self.fname, ID = self.ID)\n",
    "    \n",
    "    def check_id(self):\n",
    "        if len(str(self.ID)) == 5 and str(self.ID)[0] == '1':\n",
    "            print(\"The ID number is valid\")\n",
    "        else: print(\"The ID number is invalid\")\n",
    "\n",
    "    def check_grade(self):\n",
    "        if len(self.grade) == len(self.credit): \n",
    "            print(\"Every grade corresponds to a course\")\n",
    "        else: print(\"Not every grade corresponds to a course\")\n",
    "    \n",
    "    def append_grade_credit(self, grade, credit):\n",
    "        self.grade.append(grade)\n",
    "        self.credit.append(credit)"
   ]
  },
  {
   "cell_type": "code",
   "execution_count": 8,
   "metadata": {},
   "outputs": [],
   "source": [
    "stu3 = Student(47802, \"Elena\", \"Ku\", [49, 94, 90, 92], [3, 3, 3, 4], \"Astronomy\")"
   ]
  },
  {
   "cell_type": "code",
   "execution_count": 9,
   "metadata": {},
   "outputs": [
    {
     "name": "stdout",
     "output_type": "stream",
     "text": [
      "The ID number is invalid\n"
     ]
    }
   ],
   "source": [
    "# Testing: Check if the ID number is Valid\n",
    "stu3.check_id()"
   ]
  },
  {
   "cell_type": "code",
   "execution_count": 10,
   "metadata": {},
   "outputs": [
    {
     "name": "stdout",
     "output_type": "stream",
     "text": [
      "Every grade corresponds to a course\n"
     ]
    }
   ],
   "source": [
    "# Testing: Check if the grades list has the same length as the credits list\n",
    "stu3.check_grade()"
   ]
  },
  {
   "cell_type": "code",
   "execution_count": 11,
   "metadata": {},
   "outputs": [],
   "source": [
    "# Testing: Append grade and credit\n",
    "stu3.append_grade_credit(80, 3)"
   ]
  },
  {
   "cell_type": "code",
   "execution_count": 12,
   "metadata": {},
   "outputs": [
    {
     "data": {
      "text/plain": [
       "[49, 94, 90, 92, 80]"
      ]
     },
     "execution_count": 12,
     "metadata": {},
     "output_type": "execute_result"
    }
   ],
   "source": [
    "# Show student's grade after appending\n",
    "stu3.grade"
   ]
  },
  {
   "cell_type": "code",
   "execution_count": 13,
   "metadata": {},
   "outputs": [
    {
     "data": {
      "text/plain": [
       "[3, 3, 3, 4, 3]"
      ]
     },
     "execution_count": 13,
     "metadata": {},
     "output_type": "execute_result"
    }
   ],
   "source": [
    "# Show student's credit after appending\n",
    "stu3.credit"
   ]
  },
  {
   "cell_type": "markdown",
   "metadata": {},
   "source": [
    "\n",
    "***\n",
    "\n",
    "### Question 4\n",
    "\n",
    "Create a module in the class Student that computes the unweighted average of the student's grades."
   ]
  },
  {
   "cell_type": "code",
   "execution_count": 14,
   "metadata": {},
   "outputs": [],
   "source": [
    "# Your answer here\n",
    "class Student:\n",
    "    def __init__(self, ID, fname, lname, grade, credit, major):\n",
    "        self.ID = ID\n",
    "        self.fname = fname\n",
    "        self.lname = lname\n",
    "        self.grade = grade\n",
    "        self.credit = credit\n",
    "        self.major = major\n",
    "\n",
    "    def __str__(self):\n",
    "        stu_info = \"\"\"\n",
    "        Student:\n",
    "            Id: {ID}\n",
    "            Name: {lname}, {fname}\n",
    "            Major: {major}\n",
    "            \"\"\".format(ID = self.ID, lname = self.lname, fname = self.fname, major = self.major)\n",
    "        return stu_info\n",
    "    \n",
    "    def __repr__(self):\n",
    "        return \"Name: {lname}, {fname}; ID: {ID}\".format(lname = self.lname, fname = self.fname, ID = self.ID)\n",
    "    \n",
    "    def check_id(self):\n",
    "        if len(str(self.ID)) == 5 and str(self.ID)[0] == '1':\n",
    "            print(\"The ID number is valid\")\n",
    "        else: print(\"The ID number is invalid\")\n",
    "\n",
    "    def check_grade(self):\n",
    "        if len(self.grade) == len(self.credit): \n",
    "            print(\"Every grade corresponds to a course\")\n",
    "        else: print(\"Not every grade corresponds to a course\")\n",
    "    \n",
    "    def add_grade(self, grade, credit):\n",
    "        self.grade.append(grade)\n",
    "        self.credit.append(credit)\n",
    "        \n",
    "    def unweighted_avg_grade(self):\n",
    "        gr = 0\n",
    "        for i in self.grade:\n",
    "            gr += i\n",
    "        avg = gr/len(self.grade)\n",
    "        return avg"
   ]
  },
  {
   "cell_type": "code",
   "execution_count": 15,
   "metadata": {},
   "outputs": [],
   "source": [
    "stu4 = Student(12649, \"Kevin\", \"Lucas\", [29, 90, 40, 50], [3, 3, 3, 4], \"Economics\")"
   ]
  },
  {
   "cell_type": "code",
   "execution_count": 16,
   "metadata": {},
   "outputs": [
    {
     "name": "stdout",
     "output_type": "stream",
     "text": [
      "52.25\n"
     ]
    }
   ],
   "source": [
    "# Testing\n",
    "print(stu4.unweighted_avg_grade())"
   ]
  },
  {
   "cell_type": "markdown",
   "metadata": {},
   "source": [
    "\n",
    "***\n",
    "\n",
    "### Question 5\n",
    "\n",
    "Create a module in the class Student that computes the weighted average of the student's grades, weighted by the credits."
   ]
  },
  {
   "cell_type": "code",
   "execution_count": 17,
   "metadata": {},
   "outputs": [],
   "source": [
    "# Your answer here\n",
    "class Student:\n",
    "    def __init__(self, ID, fname, lname, grade, credit, major):\n",
    "        self.ID = ID\n",
    "        self.fname = fname\n",
    "        self.lname = lname\n",
    "        self.grade = grade\n",
    "        self.credit = credit\n",
    "        self.major = major\n",
    "\n",
    "    def __str__(self):\n",
    "        stu_info = \"\"\"\n",
    "        Student:\n",
    "            Id: {ID}\n",
    "            Name: {lname}, {fname}\n",
    "            Major: {major}\n",
    "            \"\"\".format(ID = self.ID, lname = self.lname, fname = self.fname, major = self.major)\n",
    "        return stu_info\n",
    "    \n",
    "    def __repr__(self):\n",
    "        return \"Name: {lname}, {fname}; ID: {ID}\".format(lname = self.lname, fname = self.fname, ID = self.ID)\n",
    "    \n",
    "    def check_id(self):\n",
    "        if len(str(self.ID)) == 5 and str(self.ID)[0] == '1':\n",
    "            print(\"The ID number is valid\")\n",
    "        else: print(\"The ID number is invalid\")\n",
    "\n",
    "    def check_grade(self):\n",
    "        if len(self.grade) == len(self.credit): \n",
    "            print(\"Every grade corresponds to a course\")\n",
    "        else: print(\"Not every grade corresponds to a course\")\n",
    "    \n",
    "    def add_grade(self, grade, credit):\n",
    "        self.grade.append(grade)\n",
    "        self.credit.append(credit)\n",
    "        \n",
    "    def unw_avg_grade(self):\n",
    "        gr = 0\n",
    "        for i in self.grade:\n",
    "            gr += i\n",
    "        avg = gr/len(self.grade)\n",
    "        return avg\n",
    "    \n",
    "    def weighted_avg_grade(self):\n",
    "        if len(self.grade) == len(self.credit):\n",
    "            total_gr = 0\n",
    "            total_cr = 0\n",
    "            for i in range(len(self.credit)):\n",
    "                total_cr += self.credit[i]\n",
    "                total_gr += self.grade[i] * self.credit[i]\n",
    "                weighted_avg = total_gr/total_cr\n",
    "            return weighted_avg\n",
    "            "
   ]
  },
  {
   "cell_type": "code",
   "execution_count": 18,
   "metadata": {},
   "outputs": [],
   "source": [
    "stu4 = Student(12649, \"Kevin\", \"Lucas\", [29, 90, 40, 50], [3, 3, 3, 4], \"Economics\")"
   ]
  },
  {
   "cell_type": "code",
   "execution_count": 19,
   "metadata": {},
   "outputs": [
    {
     "data": {
      "text/plain": [
       "52.07692307692308"
      ]
     },
     "execution_count": 19,
     "metadata": {},
     "output_type": "execute_result"
    }
   ],
   "source": [
    "stu4.weighted_avg_grade()"
   ]
  },
  {
   "cell_type": "markdown",
   "metadata": {},
   "source": [
    "**That's all, folks!**"
   ]
  }
 ],
 "metadata": {
  "kernelspec": {
   "display_name": "Python 3",
   "language": "python",
   "name": "python3"
  },
  "language_info": {
   "codemirror_mode": {
    "name": "ipython",
    "version": 3
   },
   "file_extension": ".py",
   "mimetype": "text/x-python",
   "name": "python",
   "nbconvert_exporter": "python",
   "pygments_lexer": "ipython3",
   "version": "3.7.6"
  }
 },
 "nbformat": 4,
 "nbformat_minor": 4
}
